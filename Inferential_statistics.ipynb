{
 "cells": [
  {
   "cell_type": "markdown",
   "metadata": {},
   "source": [
    "## Inferential Statistics"
   ]
  },
  {
   "cell_type": "markdown",
   "metadata": {},
   "source": [
    "### Estimation\n",
    "#### point estimate 点估计(利用某一样本的均值估计相同条件下总体的均值)\n",
    "- 2. 68% sample means fall within $\\sigma/\\sqrt{n}$ of the population mean; 95% sample means fll within $2\\sigma/\\sqrt{n}$ of the population mean\n",
    "- 3. $\\frac{2\\sigma}{\\sqrt{n}}=\\boldsymbol{margin\\ of\\ error}$ 误差范围\n",
    "\n",
    "#### Example (How to estimate ):\n",
    "If we got the mean of a sample($\\overline{x}$), we can estimate the mean of whole sample means($\\mu$) with same size in same condition.\n",
    "$$\n",
    "(\\mu-2(\\frac{\\sigma}{\\sqrt{n}}),\\mu+2(\\frac{\\sigma}{\\sqrt{n}}))\\iff95\\%\\ of\\ sample\\ means\\ within\\ this\\ interval\n",
    "\\\\\\mu-2(\\frac{\\sigma}{\\sqrt{n}})<\\overline{x}<\\mu+2(\\frac{\\sigma}{\\sqrt{n}})\n",
    "\\\\\\overline{x}-2(\\frac{\\sigma}{\\sqrt{n}})<\\mu<\\overline{x}+2(\\frac{\\sigma}{\\sqrt{n}})\n",
    "$$\n",
    "#### Confidence interval置信区间\n",
    "- margin of the error is half of the confidence interval\n",
    "\n",
    "\n",
    "- **Confidence interval is 95%, $Critical\\ Values\\ of\\ z\\ is\\ \\pm1.96$**\n",
    "- point estimate for the mean of the population after intervention is $\\overline{x}$\n",
    "- Interval estimate for the mean of the population after intervention (confidence interval=95%),($\\overline{x}-1.96(\\frac{\\sigma}{\\sqrt{n}}),\\overline{x}+1.96(\\frac{\\sigma}{\\sqrt{n}})$)\n",
    "- when the sample size increases, interval estimate becomes smaller\n",
    "\n",
    "\n",
    "- **Confidence interval is 98%, $Critical\\ Values\\ of\\ z\\ is\\ \\pm2.33$**\n",
    "- Interval estimate for the mean of the population after intervention (confidence interval=98%), ($\\overline{x}-2.33(\\frac{\\sigma}{\\sqrt{n}}),\\overline{x}+2.33(\\frac{\\sigma}{\\sqrt{n}})$)\n",
    "\n",
    "#### Example:\n",
    "We got the initial population dataset and a sample data with intervention. We want to know if the intervention has an effect on the population parameter, we need to find where each sample mean falls on the **distribution of sample means** for their respective populations.(该样本在所有相同样本量的抽样分布中的位置)\n",
    "- We got a sample mean $\\overline{x}$, and its sampling distribution is $\\mu,\\ \\sigma$, we calculate the $$z-score=\\frac{(\\overline{x}-\\mu)}{\\sigma/\\sqrt{n}}$$ If the z-score is very high (or very low), that means the probabilty of randomly selecting a sample of same size with mean higher than $\\overline{x}$ is very very low. Then we can get conclusion that this intervention has an effect on population. "
   ]
  },
  {
   "cell_type": "markdown",
   "metadata": {},
   "source": [
    "### Hypothesis Testing\n",
    "#### One tailed test\n",
    "-Level of Likelihood($\\alpha$)\n",
    "$\\begin{cases}\n",
    "0.05(5\\%)\\Longrightarrow z*=1.65\\\\\n",
    "0.01(1\\%)\\Longrightarrow z*=2.32\\\\\n",
    "0.001(0.1\\%)\\Longrightarrow z*=3.08\n",
    "\\end{cases}$\n",
    "- If the probability of getting a particular sample mean is less than $\\alpha$, it is \"unlikely\" to occur.\n",
    "- If a sample mean has a z-score greater than z*(z-critical value), it is \"unlikely\" to occur.\n",
    "- Sample mean $\\overline{x}$, if $z=\\frac{(\\overline{x}-\\mu)}{\\sigma/\\sqrt{n}}>z*$, we can say $\\overline{x}$ is significant at $p<\\alpha$\n",
    "- 临界区指的是 z>z* 的区域\n",
    "- 在构建假设检验时，要在执行检验前选定一个显著性水平。在获得结果后可以报告结果在特定临界水平为显著的。\n",
    "\n",
    "#### Two tailed test 双尾检验\n",
    "$\\begin{cases}\n",
    "0.05(5\\%)\\Longrightarrow z*=\\mp1.96\\\\\n",
    "0.01(1\\%)\\Longrightarrow z*=\\mp2.57\\\\\n",
    "0.001(0.1\\%)\\Longrightarrow z*=\\mp3.32\n",
    "\\end{cases}$\n",
    "- 双尾检验将$\\alpha$分成了对称的两部分\n",
    "- 临界区指的是$z>z*_+\\ AND\\ z<z*_-$的区域\n",
    "\n",
    "#### Test\n",
    "- $H_0(null\\ hypothesis)$ 零假设：$\\mu=\\mu_I$ There is **no significant difference** between the current population parameters and the new population parameters after some sort of intervention. \n",
    "- $H_a(alternative\\ hypothesis)$ 对立假设: $\\mu<\\mu_I(One tailed,directional)\\ OR\\ \\mu>\\mu_I(One tailed,directional)\\ OR\\ \\mu\\ne\\mu_I(Two tailed,nondirectional)$\n",
    "- Reject the null hypothesis:\n",
    "$\\begin{cases}\n",
    "1.Our\\ sample\\ mean\\ falls\\ within\\ the\\ critical\\ region\\\\\n",
    "2.The\\ z-score\\ of\\ our\\ sample\\ is\\ greater\\ than\\ the\\ z-critical\\\\\n",
    "3.The\\ probability\\ of\\ obtaining\\ the\\ sample\\ mean\\ is\\ less\\ than\\ the\\ \\alpha\\ level\n",
    "\\end{cases}$\n",
    "That means there are some effects caused by intervention\n",
    "- Increasing the sample size, the probability of rejecting the $H_0$ also increases.\n",
    "\n",
    "#### Hypothesis testing is prone to misinterpretations\n",
    "- Wrong decisions \"**statistical decision errors**\": \n",
    "- - Type one error：$H_0$ is true, but we reject it; \n",
    "- - Type two error：$H_0$ is false, bu we retain it."
   ]
  },
  {
   "cell_type": "markdown",
   "metadata": {},
   "source": [
    "### T-test\n",
    "How different two sample means are from each other when two samples are dependent.\n",
    "- 1.Use Bessel's correction to estimate the population standard deviation.$$s=\\sqrt{\\frac{\\sum{(x_i-x)^2}}{n-1}}$$\n",
    "- 2.Get sampling distribution, $mean=\\mu\\quad SD=\\frac{\\sigma}{\\sqrt{n}}$\n",
    "- 3.t-distribution, $$t=\\frac{mean\\ difference}{SE}$$ SE depends on s.\n",
    "- - When sample size increases, the t-distribution approaches a normal distribution, and it gets skinnier tails; $s\\rightarrow\\sigma$\n",
    "\n",
    "#### degree of freedom\n",
    "- If I randomly choose $n$ number, the degree of freedom is n;\n",
    "- If I choose $n$ number sum to 10, the degree of freedom is n-1;\n",
    "- For a $n*n$ table, each colunm and row sum to a certain number, the degree of freedom is $(n-1)^2$ \n",
    "- So in $s=\\sqrt{\\frac{\\sum{(x_i-x)^2}}{n-1}}$, n-1 is th effective sample size.\n",
    "\n",
    "#### t-test\n",
    "- t-table: search t-critical value by df and area in right tail.\n",
    "- - df=samplesize-1\n",
    "- for one-tailed t-test, area in right tail equals to $\\alpha$;\n",
    "- for two-tailed t-test, area in right tail equals to $\\frac{1}{2}\\alpha$;\n",
    "$$\n",
    "t=\\frac{(\\overline{x}-\\mu_0)}{s/\\sqrt{n}}\n",
    "$$\n",
    "\n",
    "-**The larger the value of $\\overline{x}$, the stronger the evidence that $\\mu>\\mu_0$**;\n",
    "\n",
    "-**The smaller the value of $\\overline{x}$, the stronger the evidence that $\\mu<\\mu_0$**;\n",
    "\n",
    "-**The further the value of $\\overline{x}$ from $\\mu_0$ in either direction, the stronger the evidence that $\\mu\\ne\\mu_0$**.\n",
    "\n",
    "#### one sample t-test\n",
    "- 在单样本t检验中，$\\mu_0$是已知的。仅需要根据样本计算出总体的标准差。\n",
    "- 当t-value非常大的时候，我们就可以拒绝零假设。（p-value：probability of getting this t-value会非常小）\n"
   ]
  },
  {
   "cell_type": "code",
   "execution_count": 21,
   "metadata": {},
   "outputs": [
    {
     "data": {
      "text/plain": [
       "22.360679774997866"
      ]
     },
     "execution_count": 21,
     "metadata": {},
     "output_type": "execute_result"
    }
   ],
   "source": [
    "import math\n",
    "(6.47-6.07)/(0.40/math.sqrt(500))"
   ]
  }
 ],
 "metadata": {
  "kernelspec": {
   "display_name": "Python [conda env:py2]",
   "language": "python",
   "name": "conda-env-py2-py"
  },
  "language_info": {
   "codemirror_mode": {
    "name": "ipython",
    "version": 2
   },
   "file_extension": ".py",
   "mimetype": "text/x-python",
   "name": "python",
   "nbconvert_exporter": "python",
   "pygments_lexer": "ipython2",
   "version": "2.7.14"
  }
 },
 "nbformat": 4,
 "nbformat_minor": 2
}
