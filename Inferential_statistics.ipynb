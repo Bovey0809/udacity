{
 "cells": [
  {
   "cell_type": "markdown",
   "metadata": {},
   "source": [
    "## Inferential Statistics"
   ]
  },
  {
   "cell_type": "markdown",
   "metadata": {},
   "source": [
    "### Estimation\n",
    "#### point estimate 点估计(利用某一样本的均值估计相同条件下总体的均值)\n",
    "- 2. 68% sample means fall within $\\sigma/\\sqrt{n}$ of the population mean; 95% sample means fll within $2\\sigma/\\sqrt{n}$ of the population mean\n",
    "- 3. $\\frac{2\\sigma}{\\sqrt{n}}=\\boldsymbol{margin\\ of\\ error}$ 误差范围\n",
    "\n",
    "#### Example (How to estimate ):\n",
    "If we got the mean of a sample($M$), we can estimate the mean of whole sample means($\\mu$) with same size in same condition.\n",
    "$$\n",
    "(\\mu-2(\\frac{\\sigma}{\\sqrt{n}}),\\mu+2(\\frac{\\sigma}{\\sqrt{n}}))\\iff95\\%\\ of\\ sample\\ means\\ within\\ this\\ interval\n",
    "\\\\\\mu-2(\\frac{\\sigma}{\\sqrt{n}})<M<\\mu+2(\\frac{\\sigma}{\\sqrt{n}})\n",
    "\\\\M-2(\\frac{\\sigma}{\\sqrt{n}})<\\mu<M+2(\\frac{\\sigma}{\\sqrt{n}})\n",
    "$$\n",
    "#### Confidence interval置信区间  \n",
    "- 要包括总体数值的95%，z值为-1.96和1.96\n",
    "- point estimate, confidence interval=95%, $M-1.96(\\frac{\\sigma}{\\sqrt{n}})<\\mu<M+1.96(\\frac{\\sigma}{\\sqrt{n}})$"
   ]
  },
  {
   "cell_type": "code",
   "execution_count": 5,
   "metadata": {},
   "outputs": [
    {
     "data": {
      "text/plain": [
       "34.6884"
      ]
     },
     "execution_count": 5,
     "metadata": {},
     "output_type": "execute_result"
    }
   ],
   "source": [
    "import math\n",
    "40-1.96*2.71"
   ]
  },
  {
   "cell_type": "code",
   "execution_count": null,
   "metadata": {},
   "outputs": [],
   "source": []
  }
 ],
 "metadata": {
  "kernelspec": {
   "display_name": "Python [conda env:py2]",
   "language": "python",
   "name": "conda-env-py2-py"
  },
  "language_info": {
   "codemirror_mode": {
    "name": "ipython",
    "version": 2
   },
   "file_extension": ".py",
   "mimetype": "text/x-python",
   "name": "python",
   "nbconvert_exporter": "python",
   "pygments_lexer": "ipython2",
   "version": "2.7.14"
  }
 },
 "nbformat": 4,
 "nbformat_minor": 2
}
