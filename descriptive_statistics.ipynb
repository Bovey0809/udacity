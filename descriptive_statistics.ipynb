{
 "cells": [
  {
   "cell_type": "markdown",
   "metadata": {},
   "source": [
    "## Descriptive Statistic"
   ]
  },
  {
   "cell_type": "markdown",
   "metadata": {},
   "source": [
    "### Normalize data\n",
    "Use **relative frequency** to know the proportion less than or greater than a certain value.\n",
    "Smaller bin size help us get more details from histogram.\n",
    "#### Normal Distribution\n",
    "- 1. 68% data fall in 1$\\sigma$ standard deviation from mean;\n",
    "- 2. 95% data fall in 2$\\sigma$ from mean.\n",
    "- - $\\sigma$越大，分布越扁平，$\\sigma$越小，越瘦高\n",
    "- 3. $\\bigstar$ **z$\\Longrightarrow$ number of deviations away from the mean**, $z=\\frac{x-\\mu}{\\sigma}$\n",
    "- - 归一化：任何值都可以转化为距离均值的标准偏差数\n",
    "- 4. If we using z-value to nomalize the data, than the **new mean=0**(_shift the distribution on x-axis_)\n",
    "    **new $\\sigma$=1**(_change the shape of distribution_)\n",
    "\n",
    "#### Standard normal distribution\n",
    "- $\\mu=0\\quad\\sigma=1$\n",
    "- the area under curve is 1\n",
    "- 任何正态分布都可以转换为标准正态分布；利用这个特性可以实现不同正态分布之间的转换（_例如用不同衡量标准比较同一个人的受欢迎程度_）"
   ]
  },
  {
   "cell_type": "markdown",
   "metadata": {},
   "source": [
    "### Probability Density Function概率密度函数\n",
    "- the area under curve from negative infinity to value _x_ is the probability of randomly selecting a subject in the sample less than _x_. **if the proportion is 80%, we can say _x _ is the 80th percent tail\n",
    "\n",
    "$\\bigstar\\bigstar$ z表格告诉的是低于某个值的比例"
   ]
  },
  {
   "cell_type": "markdown",
   "metadata": {},
   "source": [
    "### Sampling distribution\n",
    "#### Expacted value期望值\n",
    "    -  we use probability to calculate this \n",
    "\n",
    "\n",
    "- **Distribution of sample means = Sampling Distribution** \n",
    "- We compare a sample in apopulation to other samples in a same population by comparing the mean of this sample to others.\n",
    "- Mean of population $\\Longrightarrow$ $\\mu$, Standard deviation of population $\\Longrightarrow$ $\\sigma$\n",
    "- Mean of sample means(假设有i个size为$n_i$的样本)，Standard deviation of distribution of sample means $\\Longrightarrow$ $\\color{red}{SE}$$\\Longleftarrow$抽样分布的标准偏差\n",
    "\n",
    "$\\color{red}{\\bigstar\\quad\\frac{\\sigma}{SE}=\\sqrt{n}}$, n is the sample size.\n",
    "#### Central Limit Theorem\n",
    "$$\n",
    "\\color{red}{\\bigstar\\qquad\\frac{\\sigma}{\\sqrt{n}}=SE(\\boldsymbol{Standard\\ Error})}\n",
    "$$\n",
    "- Example:  掷一个🎲100次，得到的是均匀分布；掷两个🎲100次，两个骰子点数的平均值呈现正态分布\n",
    "    可以将第一个数据组看作population，将第二个数据组看作100个size=2的sample set。\n",
    "- As the sample size increases, the standard error decreases.\n",
    "- If sample size=1, the distribution of sample means will be same as population distribution.\n"
   ]
  }
 ],
 "metadata": {
  "kernelspec": {
   "display_name": "Python [conda env:py2]",
   "language": "python",
   "name": "conda-env-py2-py"
  },
  "language_info": {
   "codemirror_mode": {
    "name": "ipython",
    "version": 2
   },
   "file_extension": ".py",
   "mimetype": "text/x-python",
   "name": "python",
   "nbconvert_exporter": "python",
   "pygments_lexer": "ipython2",
   "version": "2.7.14"
  }
 },
 "nbformat": 4,
 "nbformat_minor": 2
}
