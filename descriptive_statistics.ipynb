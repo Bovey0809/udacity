{
 "cells": [
  {
   "cell_type": "markdown",
   "metadata": {},
   "source": [
    "## Descriptive Statistic"
   ]
  },
  {
   "cell_type": "markdown",
   "metadata": {},
   "source": [
    "### Normalize data\n",
    "Use **relative frequency** to know the proportion less than or greater than a certain value.\n",
    "Smaller bin size help us get more details from histogram.\n",
    "#### Normal Distribution\n",
    "- 1. 68% data fall in 1$\\sigma$ standard deviation from mean;\n",
    "- 2. 95% data fall in 2$\\sigma$ from mean.\n",
    "- - $\\sigma$越大，分布越扁平，$\\sigma$越小，越瘦高\n",
    "- 3. $\\bigstar$ **z$\\Longrightarrow$ number of deviations away from the mean**, $z=\\frac{x-\\mu}{\\sigma}$\n",
    "- - 归一化：任何值都可以转化为距离均值的标准偏差数\n",
    "- 4. If we using z-value to nomalize the data, than the **new mean=0**(_shift the distribution on x-axis_)\n",
    "    **new $\\sigma$=1**(_change the shape of distribution_)\n",
    "\n",
    "#### Standard normal distribution\n",
    "- $\\mu=0\\quad\\sigma=1$\n",
    "- the area under curve is 1\n",
    "- 任何正态分布都可以转换为标准正态分布；利用这个特性可以实现不同正态分布之间的转换（_例如用不同衡量标准比较同一个人的受欢迎程度_）"
   ]
  },
  {
   "cell_type": "markdown",
   "metadata": {},
   "source": [
    "### Probability Density Function概率密度函数\n",
    "- the area under curve from negative infinity to value _x_ is the probability of randomly selecting a subject in the sample less than _x_. **if the proportion is 80%, we can say _x _ is the 80th percent tail\n",
    "\n",
    "$\\bigstar\\bigstar$ z表格告诉的是低于某个值的比例"
   ]
  },
  {
   "cell_type": "code",
   "execution_count": 3,
   "metadata": {},
   "outputs": [
    {
     "data": {
      "text/plain": [
       "280.0"
      ]
     },
     "execution_count": 3,
     "metadata": {},
     "output_type": "execute_result"
    }
   ],
   "source": [
    "190+2.5*36"
   ]
  },
  {
   "cell_type": "code",
   "execution_count": null,
   "metadata": {},
   "outputs": [],
   "source": []
  }
 ],
 "metadata": {
  "kernelspec": {
   "display_name": "Python [conda env:py2]",
   "language": "python",
   "name": "conda-env-py2-py"
  },
  "language_info": {
   "codemirror_mode": {
    "name": "ipython",
    "version": 2
   },
   "file_extension": ".py",
   "mimetype": "text/x-python",
   "name": "python",
   "nbconvert_exporter": "python",
   "pygments_lexer": "ipython2",
   "version": "2.7.14"
  }
 },
 "nbformat": 4,
 "nbformat_minor": 2
}
