{
 "cells": [
  {
   "cell_type": "markdown",
   "metadata": {},
   "source": [
    "# Data gathering"
   ]
  },
  {
   "cell_type": "markdown",
   "metadata": {},
   "source": [
    "Gathering data is the first step in data wrangling, and varies from project to project.\n",
    "The data is usually spread across several different sources and file formats, which makes things **tricky** when organizing the data in programming environment."
   ]
  },
  {
   "cell_type": "markdown",
   "metadata": {},
   "source": [
    "### Dataset: find the best movie\n",
    "#### Rotten tomatoes: compare critic's score and audience score\n",
    "- audience score on horizontal axis and critic's score on vertical axis\n",
    "    movies has both high audience score and critic's score in the top right quadrant"
   ]
  },
  {
   "cell_type": "markdown",
   "metadata": {},
   "source": [
    "### flat file\n",
    "A wide family of files with similar core traits then some slight differences.\n",
    "    #### core traits\n",
    "    plain text\n",
    "    one record per line\n",
    "    each line having fields\n",
    "    delimiters separating each field\n",
    "    #### slight difference\n",
    "    delimisters can vary: CSV(commas), TSV(tabs）\n",
    "#### advantages\n",
    "    simple and human readable\n",
    "    softwares which can read and write flat files are ubiquitous\n",
    "    特别适用于小型数据集\n",
    "#### disadvantages\n",
    "    lack of standards\n",
    "    lack of integrity\n",
    "    massive data redundancy"
   ]
  },
  {
   "cell_type": "code",
   "execution_count": null,
   "metadata": {},
   "outputs": [],
   "source": []
  }
 ],
 "metadata": {
  "kernelspec": {
   "display_name": "Python [conda env:py2]",
   "language": "python",
   "name": "conda-env-py2-py"
  },
  "language_info": {
   "codemirror_mode": {
    "name": "ipython",
    "version": 2
   },
   "file_extension": ".py",
   "mimetype": "text/x-python",
   "name": "python",
   "nbconvert_exporter": "python",
   "pygments_lexer": "ipython2",
   "version": "2.7.14"
  }
 },
 "nbformat": 4,
 "nbformat_minor": 2
}
